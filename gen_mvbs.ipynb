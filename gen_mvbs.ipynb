{
 "cells": [
  {
   "cell_type": "code",
   "execution_count": 65,
   "metadata": {},
   "outputs": [],
   "source": [
    "from pathlib import Path\n",
    "import datetime as dt\n",
    "\n",
    "import echopype as ep\n",
    "import gen_mvbs_utils"
   ]
  },
  {
   "cell_type": "code",
   "execution_count": 27,
   "metadata": {},
   "outputs": [],
   "source": [
    "# Parameters\n",
    "output_path = Path(\"./tmp_outputs\")\n",
    "start_datetime = dt.datetime(2015, 8, 30, 0, 0)\n",
    "end_datetime = dt.datetime(2015, 9, 1, 23, 59, 59)"
   ]
  },
  {
   "cell_type": "code",
   "execution_count": 28,
   "metadata": {},
   "outputs": [],
   "source": [
    "if not output_path.exists():\n",
    "    output_path.mkdir()"
   ]
  },
  {
   "cell_type": "code",
   "execution_count": 29,
   "metadata": {},
   "outputs": [],
   "source": [
    "ooi_site_url = (\n",
    "    \"https://rawdata.oceanobservatories.org/files/\"\n",
    "    \"CE04OSPS/PC01B/ZPLSCB102_10.33.10.143/\"\n",
    ")\n"
   ]
  },
  {
   "cell_type": "code",
   "execution_count": 30,
   "metadata": {},
   "outputs": [],
   "source": [
    "desired_raw_file_urls = gen_mvbs_utils.get_raw_file_url(\n",
    "    file_url=ooi_site_url, start=start_datetime, end=end_datetime\n",
    ")"
   ]
  },
  {
   "cell_type": "code",
   "execution_count": 31,
   "metadata": {},
   "outputs": [
    {
     "name": "stdout",
     "output_type": "stream",
     "text": [
      "There are 3 raw files within the specified datetime range.\n"
     ]
    }
   ],
   "source": [
    "print(f\"There are {len(desired_raw_file_urls)} raw files within the specified datetime range.\")"
   ]
  },
  {
   "cell_type": "code",
   "execution_count": 32,
   "metadata": {},
   "outputs": [
    {
     "data": {
      "text/plain": [
       "'mvbs_5m_200s'"
      ]
     },
     "execution_count": 32,
     "metadata": {},
     "output_type": "execute_result"
    }
   ],
   "source": [
    "MVBS_range_interval_meter = 5\n",
    "MVBS_ping_time_interval_seconds = \"200S\"\n",
    "MVBS_str = f\"mvbs_{MVBS_range_interval_meter}m_{MVBS_ping_time_interval_seconds[:-1]}s\"\n",
    "MVBS_str"
   ]
  },
  {
   "cell_type": "code",
   "execution_count": 52,
   "metadata": {},
   "outputs": [
    {
     "name": "stdout",
     "output_type": "stream",
     "text": [
      "22:44:04  parsing file OOI-D20150830-T000000.raw, time of first ping: 2015-Aug-30 00:00:00\n",
      "22:44:44  parsing file OOI-D20150831-T000000.raw, time of first ping: 2015-Aug-31 00:00:00\n",
      "22:45:24  parsing file OOI-D20150901-T000000.raw, time of first ping: 2015-Sep-01 00:00:00\n",
      "CPU times: user 53.8 s, sys: 25.6 s, total: 1min 19s\n",
      "Wall time: 2min 1s\n"
     ]
    }
   ],
   "source": [
    "%%time\n",
    "for raw_file_url in desired_raw_file_urls:\n",
    "    raw_path = Path(raw_file_url)\n",
    "    ed = ep.open_raw(raw_file=raw_path, sonar_model='ek60')\n",
    "    ds_Sv = ep.calibrate.compute_Sv(ed)\n",
    "    ds_MVBS = ep.preprocess.compute_MVBS(\n",
    "        ds_Sv=ds_Sv,\n",
    "        range_meter_bin=MVBS_range_interval_meter,\n",
    "        ping_time_bin=MVBS_ping_time_interval_seconds\n",
    "    )\n",
    "    ds_MVBS.to_zarr(\n",
    "        output_path / raw_path.with_name(raw_path.stem + \"_MVBS\").with_suffix(\".zarr\").name\n",
    "        )"
   ]
  },
  {
   "cell_type": "code",
   "execution_count": null,
   "metadata": {},
   "outputs": [],
   "source": []
  }
 ],
 "metadata": {
  "kernelspec": {
   "display_name": "Python 3.9.13 ('ooi-nmf-workflow-data-prep')",
   "language": "python",
   "name": "python3"
  },
  "language_info": {
   "codemirror_mode": {
    "name": "ipython",
    "version": 3
   },
   "file_extension": ".py",
   "mimetype": "text/x-python",
   "name": "python",
   "nbconvert_exporter": "python",
   "pygments_lexer": "ipython3",
   "version": "3.9.13"
  },
  "orig_nbformat": 4,
  "vscode": {
   "interpreter": {
    "hash": "14a020f80d37b5e8a2604436742d38c78c51f75095ccf1fcdcf6dabbdb9f903e"
   }
  }
 },
 "nbformat": 4,
 "nbformat_minor": 2
}
